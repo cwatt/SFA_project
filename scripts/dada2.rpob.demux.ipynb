{
 "cells": [
  {
   "cell_type": "markdown",
   "metadata": {},
   "source": [
    "# Project: Janani's rpob sequences demultiplexing\n",
    "\n",
    "Cassandra Wattenburger, 07/08/21\n",
    "\n",
    "### Notes:\n",
    "* Modified from script written by Roli Wilhelm\n",
    "* Running script using QIIME2 v2021.4\n",
    "* Included amplicons of rpob for Janani on SFA2 rep1 trial run, demultiplexing"
   ]
  },
  {
   "cell_type": "markdown",
   "metadata": {},
   "source": [
    "# Introduction\n",
    "\n",
    "### Pipeline to process raw sequences into phyloseq object with DADA2 ###\n",
    "* Prep for Import to QIIME2  (Combine two index files)\n",
    "* Import to QIIME2\n",
    "* Demultiplex\n",
    "* Denoise and Merge\n",
    "* Prepare OTU Tables and Rep Sequences  *(Note: sample names starting with a digit will break this step)*\n",
    "* Classify Seqs\n",
    "\n",
    "*100% Appropriated from the \"Atacama Desert Tutorial\" for QIIME2*\n",
    "\n",
    "### Pipeline can handle both 16S rRNA gene and ITS sequences####\n",
    "* Tested on 515f and 806r\n",
    "* Tested on ITS1\n",
    "\n",
    "### Commands to install dependencies ####\n",
    "##### || QIIME2 ||\n",
    "** Note: QIIME2 is still actively in development, and I've noticed frequent new releases. Check for the most up-to-date conda install file <https://docs.qiime2.org/2017.11/install/native/#install-qiime-2-within-a-conda-environment>\n",
    "\n",
    "* wget https://data.qiime2.org/distro/core/qiime2-2020.2-py35-linux-conda.yml\n",
    "* conda env create -n qiime2-2020.2 --file qiime2-2018.2-py35-linux-conda.yml\n",
    "* source activate qiime2-pipeline\n",
    "\n",
    "##### || Copyrighter rrn database ||\n",
    "* The script will automatically install the curated GreenGenes rrn attribute database\n",
    "* https://github.com/fangly/AmpliCopyrighter\n",
    "\n",
    "##### || rpy2 (don't use conda version) ||\n",
    "* pip install rpy2  \n",
    "\n",
    "##### || phyloseq ||\n",
    "* conda install -c r r-igraph \n",
    "* Rscript -e \"source('http://bioconductor.org/biocLite.R');biocLite('phyloseq')\" \n",
    "\n",
    "##### || R packages ||\n",
    "* ape   (natively installed in conda environment)\n",
    "\n",
    "### Citations ###\n",
    "* Caporaso, J. G., Kuczynski, J., Stombaugh, J., Bittinger, K., Bushman, F. D., Costello, E. K., *et al.* (2010). QIIME allows analysis of high-throughput community sequencing data. Nature methods, 7(5), 335-336.\n",
    "\n",
    "* McMurdie and Holmes (2013) phyloseq: An R Package for Reproducible Interactive Analysis and Graphics of Microbiome Census Data. PLoS ONE. 8(4):e61217\n",
    "\n",
    "* Paradis E., Claude J. & Strimmer K. 2004. APE: analyses of phylogenetics and evolution in R language. Bioinformatics 20: 289-290.\n",
    "\n",
    "* Angly, F. E., Dennis, P. G., Skarshewski, A., Vanwonterghem, I., Hugenholtz, P., & Tyson, G. W. (2014). CopyRighter: a rapid tool for improving the accuracy of microbial community profiles through lineage-specific gene copy number correction. Microbiome, 2(1), 11.\n"
   ]
  },
  {
   "cell_type": "markdown",
   "metadata": {},
   "source": [
    "# Step 0: Prep the sequence data\n",
    "\n",
    "### Instructions\n",
    "\n",
    "Done on the command line.\n",
    "\n",
    "1. Copy/paste the raw sequence data to a new location on the server (never modify original data!)\n",
    "1. Decompress files to .fastq\n",
    "1. Run 'truncate_seqid.sh' on the read1, read2, index1, and index2 fastq files\n",
    "1. Recompress the read1 and read2 files to .fastq.gz (keep the index files uncompressed for a later step)\n",
    "\n",
    "This script removes a portion of the sequence ID that is incompatible with QIIME2. I think it is due to intricacies involved with the BRC's sequencing methods.\n",
    "\n",
    "Will work on incorporating directly into pipeline in future."
   ]
  },
  {
   "cell_type": "markdown",
   "metadata": {},
   "source": [
    "# Step 1: User Input\n",
    "\n",
    "### Metadata requirements\n",
    "* Must be located in the project directory\n",
    "* Must be .tsv format \n",
    "* First column named \"SampleID\" for samples\n",
    "* One column named \"BarcodeSequence\" with the relevant barcode seqeunces (rev. comp reverse concatenated with forward barcode sequence)\n",
    "\n",
    "The output directory will be created inside the project directory when you run the script."
   ]
  },
  {
   "cell_type": "code",
   "execution_count": 1,
   "metadata": {},
   "outputs": [],
   "source": [
    "import os, re, numpy as np\n",
    "\n",
    "# Prepare an object with the name of the library and all related file paths\n",
    "# datasets = [['name', 'project directory path', 'output directory name', 'modified raw data directory', read1 file name, read2 file name, 'metadata file name','domain of life'], ...]\n",
    "datasets = [['jananirpob', '/home/cassi/SFAgrowthrate/data_amplicon/janani_rpob', 'output', \n",
    "             '/home/backup_files/raw_reads/SFA2.cassi.2021/rep1.trial/modified', \n",
    "             'read1_mod.fastq.gz', 'read2_mod.fastq.gz', 'index1_mod.fastq.gz', 'index2_mod.fastq.gz', \n",
    "             'jananirpob_metadata.tsv', 'bacteria']]\n",
    "\n",
    "# Set # of processors (10 ussually good)\n",
    "processors = 10"
   ]
  },
  {
   "cell_type": "markdown",
   "metadata": {},
   "source": [
    "# Step 2: Concatenate barcodes\n",
    "\n",
    "### Instructions\n",
    "\n",
    "Done on command line.\n",
    "\n",
    "1. Run 'concatenate_barcodes_mod.py' on the modified index1 and index2 files\n",
    "1. Recompress all files to .fastq.gz (inlcuding the barcodes.fastq file that you just created)\n",
    "\n",
    "Will work on incorporating this directly into pipeline in future."
   ]
  },
  {
   "cell_type": "markdown",
   "metadata": {},
   "source": [
    "# Step 3: Move data to output directory"
   ]
  },
  {
   "cell_type": "code",
   "execution_count": 2,
   "metadata": {},
   "outputs": [],
   "source": [
    "for dataset in datasets:\n",
    "    directory = dataset[1]\n",
    "    output = dataset[2]\n",
    "    raw = dataset[3]\n",
    "    read1 = dataset[4]\n",
    "    read2 = dataset[5]\n",
    "    \n",
    "    # Create output directory if it doesn't exist already\n",
    "    if not os.path.isdir(os.path.join(directory, output)):\n",
    "        !mkdir $directory/$output\n",
    "    \n",
    "    # Create a symbolic link to the read data (files too big, copy/paste a waste of space)\n",
    "    # QIIME2 import requires a directory containing files named: forward.fastq.gz, reverse.fastq.gz and barcodes.fastq.gz \n",
    "    !ln -s $raw/$read1 $directory/$output/forward.fastq.gz\n",
    "    !ln -s $raw/$read2 $directory/$output/reverse.fastq.gz\n",
    "    \n",
    "    # Move concatenated barcodes to project directory\n",
    "    !cp $raw/barcodes.fastq.gz $directory/$output/"
   ]
  },
  {
   "cell_type": "markdown",
   "metadata": {},
   "source": [
    "# Step 3: Import into QIIME2"
   ]
  },
  {
   "cell_type": "code",
   "execution_count": 3,
   "metadata": {},
   "outputs": [],
   "source": [
    "for dataset in datasets:\n",
    "    name = dataset[0]\n",
    "    directory = dataset[1]\n",
    "    output = dataset[2]\n",
    "    \n",
    "    os.system(' '.join([\n",
    "        \"qiime tools import\",\n",
    "        \"--type EMPPairedEndSequences\",\n",
    "        \"--input-path \"+directory+\"/\"+output,\n",
    "        \"--output-path \"+directory+\"/\"+output+\"/\"+name+\".qza\"\n",
    "    ]))\n",
    "    \n",
    "    # This more direct command is broken by the fact QIIME uses multiple dashes in their arguments (is my theory)\n",
    "    #!qiime tools import --type EMPPairedEndSequences --input-path $directory/output --output-path $directory/output/$name.qza\n",
    "     "
   ]
  },
  {
   "cell_type": "markdown",
   "metadata": {},
   "source": [
    "# Step 4: Demultiplex\n",
    "\n",
    "### Notes\n",
    "* The barcode you supply to QIIME is now a concatenation of your forward and reverse barcode\n",
    "* Your 'forward' barcode is actually the reverse complement of your reverse barcode and the 'reverse' is your forward barcode"
   ]
  },
  {
   "cell_type": "code",
   "execution_count": 4,
   "metadata": {},
   "outputs": [],
   "source": [
    "### SLOW STEP\n",
    "\n",
    "for dataset in datasets:\n",
    "    name = dataset[0]\n",
    "    directory = dataset[1]\n",
    "    output = dataset[2]\n",
    "    metadata = dataset[8]\n",
    "    \n",
    "    os.system(' '.join([\n",
    "        \"qiime demux emp-paired\",\n",
    "        \"--m-barcodes-file \"+directory+\"/\"+metadata,\n",
    "        \"--m-barcodes-column BarcodeSequence\",\n",
    "        \"--p-no-golay-error-correction\",\n",
    "        \"--i-seqs \"+directory+\"/\"+output+\"/\"+name+\".qza\",\n",
    "        \"--o-per-sample-sequences \"+directory+\"/\"+output+\"/\"+name+\".demux\",\n",
    "        \"--o-error-correction-details \"+directory+\"/\"+output+\"/\"+name+\".demux-details.qza\"\n",
    "    ]))"
   ]
  },
  {
   "cell_type": "code",
   "execution_count": 5,
   "metadata": {},
   "outputs": [
    {
     "name": "stdout",
     "output_type": "stream",
     "text": [
      "Demultiplexing is complete.\n"
     ]
    }
   ],
   "source": [
    "print(\"Demultiplexing is complete.\")"
   ]
  },
  {
   "cell_type": "markdown",
   "metadata": {},
   "source": [
    "# Step 5: Visualize quality scores\n",
    "\n",
    "Drop output from below command into https://view.qiime2.org"
   ]
  },
  {
   "cell_type": "code",
   "execution_count": 6,
   "metadata": {},
   "outputs": [],
   "source": [
    "for dataset in datasets:\n",
    "    name = dataset[0]\n",
    "    directory = dataset[1]\n",
    "    output = dataset[2]\n",
    "    \n",
    "    os.system(' '.join([\n",
    "        \"qiime demux summarize\",\n",
    "        \"--i-data \"+directory+\"/\"+output+\"/\"+name+\".demux.qza\",\n",
    "        \"--o-visualization \"+directory+\"/\"+output+\"/\"+name+\".demux.qzv\"\n",
    "    ]))"
   ]
  },
  {
   "cell_type": "markdown",
   "metadata": {},
   "source": [
    "# Step 6: Export demultiplexed sequences from QIIME2"
   ]
  },
  {
   "cell_type": "code",
   "execution_count": 7,
   "metadata": {},
   "outputs": [],
   "source": [
    "for dataset in datasets:\n",
    "    name = dataset[0]\n",
    "    directory = dataset[1]\n",
    "    output = dataset[2]\n",
    "    metadata = dataset[8]\n",
    "    \n",
    "    # Export demultiplexed sequences\n",
    "    os.system(' '.join([\n",
    "        \"qiime tools export\",\n",
    "        \"--input-path \"+directory+\"/\"+output+\"/\"+name+\".demux.qza\",\n",
    "        \"--output-path \"+directory+\"/\"+output+\"/\"\n",
    "    ]))"
   ]
  },
  {
   "cell_type": "markdown",
   "metadata": {},
   "source": [
    "# Done!"
   ]
  }
 ],
 "metadata": {
  "anaconda-cloud": {},
  "hide_input": true,
  "kernelspec": {
   "display_name": "Python 3",
   "language": "python",
   "name": "python3"
  },
  "language_info": {
   "codemirror_mode": {
    "name": "ipython",
    "version": 3
   },
   "file_extension": ".py",
   "mimetype": "text/x-python",
   "name": "python",
   "nbconvert_exporter": "python",
   "pygments_lexer": "ipython3",
   "version": "3.8.8"
  }
 },
 "nbformat": 4,
 "nbformat_minor": 1
}
