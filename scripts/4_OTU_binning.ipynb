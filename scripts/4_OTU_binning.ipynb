{
 "cells": [
  {
   "cell_type": "markdown",
   "metadata": {},
   "source": [
    "# Description\n",
    "\n",
    "* Creating OTUs with usearch \n",
    "* Taxonomy assignment with QIIME using SILVA database version 132.\n",
    "* Filtering out Chloroplasts and Mitochondria with Mothur."
   ]
  },
  {
   "cell_type": "markdown",
   "metadata": {},
   "source": [
    "# Setting variables"
   ]
  },
  {
   "cell_type": "code",
   "execution_count": 1,
   "metadata": {},
   "outputs": [],
   "source": [
    "import os\n",
    "\n",
    "baseDir = '/home/sam/notebooks/goldenrod_assembly/data'\n",
    "\n",
    "qcFinal = os.path.join(baseDir, 'QC', 'finalQC.fasta')\n",
    "\n",
    "workDir = os.path.join(baseDir, 'OTU_binning')\n",
    "\n",
    "taxlist = '/home/sam/databases/SILVA_132_QIIME_release/taxonomy/16S_only/97/taxonomy_7_levels.txt'\n",
    "taxfasta = '/home/sam/databases/SILVA_132_QIIME_release/rep_set/rep_set_16S_only/97/silva_132_97_16S.fna'\n",
    "\n",
    "tax_ref = os.path.join(workDir, 'taxa_ref_SILVA_132.fasta')\n",
    "\n",
    "output_tax_table = os.path.join(workDir, 'otusn_tax_assignments.txt')\n",
    "\n",
    "nprocs = 15"
   ]
  },
  {
   "cell_type": "markdown",
   "metadata": {},
   "source": [
    "# Init"
   ]
  },
  {
   "cell_type": "code",
   "execution_count": 2,
   "metadata": {},
   "outputs": [],
   "source": [
    "import os\n",
    "import sys\n",
    "import glob\n",
    "import pandas as pd\n",
    "#from cogent.parse.fasta import MinimalFastaParser as parse\n",
    "from Bio import SeqIO\n",
    "import matplotlib.pyplot as plt\n",
    "import numpy as np\n"
   ]
  },
  {
   "cell_type": "code",
   "execution_count": 3,
   "metadata": {},
   "outputs": [
    {
     "name": "stdout",
     "output_type": "stream",
     "text": [
      "/home/sam/notebooks/goldenrod_assembly/data/OTU_binning\n"
     ]
    }
   ],
   "source": [
    "if not os.path.isdir(workDir):\n",
    "    os.makedirs(workDir)\n",
    "%cd $workDir"
   ]
  },
  {
   "cell_type": "markdown",
   "metadata": {},
   "source": [
    "### Symlinking qc'ed seq file"
   ]
  },
  {
   "cell_type": "code",
   "execution_count": 7,
   "metadata": {},
   "outputs": [
    {
     "name": "stdout",
     "output_type": "stream",
     "text": [
      "ln: failed to create symbolic link './finalQC.fasta': File exists\r\n"
     ]
    }
   ],
   "source": [
    "!ln -s $qcFinal ."
   ]
  },
  {
   "cell_type": "code",
   "execution_count": 8,
   "metadata": {},
   "outputs": [
    {
     "name": "stdout",
     "output_type": "stream",
     "text": [
      "lrwxrwxrwx 1 sam sam 60 Jun 30 19:59 /home/sam/notebooks/goldenrod_assembly/data/OTU_binning/finalQC.fasta -> /home/sam/notebooks/goldenrod_assembly/data/QC/finalQC.fasta\r\n"
     ]
    }
   ],
   "source": [
    "qcFinal = os.path.join(workDir, os.path.split(qcFinal)[1])\n",
    "!ls -thlc $qcFinal"
   ]
  },
  {
   "cell_type": "markdown",
   "metadata": {},
   "source": [
    "## Remove short sequences (<400 bp)"
   ]
  },
  {
   "cell_type": "code",
   "execution_count": 9,
   "metadata": {},
   "outputs": [],
   "source": [
    "#qcFinal_long = qcFinal.replace('.fasta', '_long.fasta')\n",
    "QCreadlengths = []\n",
    "\n",
    "for record in SeqIO.parse(qcFinal, 'fasta'):\n",
    "    QCreadlengths.append(len(record.seq))"
   ]
  },
  {
   "cell_type": "code",
   "execution_count": 10,
   "metadata": {},
   "outputs": [
    {
     "data": {
      "image/png": "[encoded data removed]",
      "text/plain": [
       "<Figure size 720x432 with 1 Axes>"
      ]
     },
     "metadata": {
      "needs_background": "light"
     },
     "output_type": "display_data"
    }
   ],
   "source": [
    "fig = plt.figure()\n",
    "ax = fig.add_subplot(111)\n",
    "h = ax.hist(np.array(QCreadlengths), \n",
    "            bins=range(min(np.array(QCreadlengths)), \n",
    "                       max(np.array(QCreadlengths)) + 1, 1))\n",
    "xl = ax.set_xlabel(\"Sequence Length, nt\")\n",
    "yl = ax.set_ylabel(\"Count\")\n",
    "fig.set_size_inches((10,6))"
   ]
  },
  {
   "cell_type": "code",
   "execution_count": 11,
   "metadata": {},
   "outputs": [],
   "source": [
    "QCreadlengths = None"
   ]
  },
  {
   "cell_type": "code",
   "execution_count": 12,
   "metadata": {},
   "outputs": [],
   "source": [
    "qcFinal_long = qcFinal.replace('.fasta', '_long.fasta')\n",
    "tooshort = 0\n",
    "\n",
    "with open(qcFinal_long, 'w') as outfasta:\n",
    "    for record in SeqIO.parse(os.path.join(workDir, qcFinal), \"fasta\"):\n",
    "        if len(record.seq) >= 400:\n",
    "            outfasta.write('>' + record.id + '\\n' + str(record.seq) + '\\n')\n",
    "        else:\n",
    "            tooshort += 1"
   ]
  },
  {
   "cell_type": "code",
   "execution_count": 13,
   "metadata": {},
   "outputs": [
    {
     "name": "stdout",
     "output_type": "stream",
     "text": [
      "2\n"
     ]
    }
   ],
   "source": [
    "print(tooshort)"
   ]
  },
  {
   "cell_type": "code",
   "execution_count": 14,
   "metadata": {},
   "outputs": [
    {
     "data": {
      "text/plain": [
       "'/home/sam/notebooks/goldenrod_assembly/data/OTU_binning/finalQC_long.fasta'"
      ]
     },
     "execution_count": 14,
     "metadata": {},
     "output_type": "execute_result"
    }
   ],
   "source": [
    "qcFinal = qcFinal_long\n",
    "qcFinal"
   ]
  },
  {
   "cell_type": "markdown",
   "metadata": {},
   "source": [
    "# Just unique sequences"
   ]
  },
  {
   "cell_type": "code",
   "execution_count": null,
   "metadata": {},
   "outputs": [],
   "source": [
    "cmd =  'mothur \"#unique.seqs(fasta={})\"'.format(qcFinal)\n",
    "!$cmd | tail -n 30"
   ]
  },
  {
   "cell_type": "code",
   "execution_count": null,
   "metadata": {},
   "outputs": [],
   "source": [
    "qcFinalUniq = os.path.splitext(qcFinal)[0] + '.unique.fasta'\n",
    "\n",
    "ret = !grep -c \">\" $qcFinalUniq\n",
    "print ('Number of unique sequences: {}'.format(ret[0]))"
   ]
  },
  {
   "cell_type": "markdown",
   "metadata": {},
   "source": [
    "# Formatting seq names for usearch"
   ]
  },
  {
   "cell_type": "code",
   "execution_count": null,
   "metadata": {},
   "outputs": [],
   "source": [
    "qcFinalName = os.path.splitext(qcFinal)[0] + '.names'\n",
    "\n",
    "counts = {}\n",
    "with open(qcFinalName) as iFH:\n",
    "    for line in iFH:\n",
    "        seedID, seqIDs = line.split(\"\\t\")\n",
    "        count = len(seqIDs.split(\",\"))\n",
    "        counts[seedID] = count "
   ]
  },
  {
   "cell_type": "code",
   "execution_count": null,
   "metadata": {},
   "outputs": [],
   "source": [
    "counts"
   ]
  },
  {
   "cell_type": "code",
   "execution_count": null,
   "metadata": {},
   "outputs": [],
   "source": [
    "sample_list = list(set([i.split('_')[0] for i in counts if counts[i] > 1]))\n",
    "len(sample_list)"
   ]
  },
  {
   "cell_type": "code",
   "execution_count": null,
   "metadata": {},
   "outputs": [],
   "source": [
    "qcFinalUs = os.path.splitext(qcFinalUniq)[0] + '.usearch_names.fasta'\n",
    "\n",
    "with open(qcFinalUs, 'w') as oFH:\n",
    "    for entry in SeqIO.parse(open(qcFinalUniq),'fasta'):\n",
    "        #n, s = fasta.id, fasta.seq.tostring()\n",
    "        n, s = entry.id, str(entry.seq)\n",
    "        if counts[n] > 1:\n",
    "            oFH.write(\">%s;size=%s;\\n%s\\n\"%(n,counts[n],s))\n",
    "        else:\n",
    "            continue"
   ]
  },
  {
   "cell_type": "code",
   "execution_count": null,
   "metadata": {},
   "outputs": [],
   "source": [
    "#!cd $workDir; \\\n",
    "!head -n 6 $qcFinalUs"
   ]
  },
  {
   "cell_type": "code",
   "execution_count": null,
   "metadata": {},
   "outputs": [],
   "source": [
    "!grep -c \">\" $qcFinalUs"
   ]
  },
  {
   "cell_type": "markdown",
   "metadata": {},
   "source": [
    "# Usearch pipeline"
   ]
  },
  {
   "cell_type": "code",
   "execution_count": null,
   "metadata": {},
   "outputs": [],
   "source": [
    "qcFinalUsSort = os.path.splitext(qcFinalUs)[0] + '_sorted.fasta'\n",
    "cmd = 'usearch -sortbysize {} -fastaout {} -minsize 2'.format(qcFinalUs, qcFinalUsSort)\n",
    "!$cmd "
   ]
  },
  {
   "cell_type": "code",
   "execution_count": null,
   "metadata": {},
   "outputs": [],
   "source": [
    "!head $qcFinalUsSort\n",
    "!echo \n",
    "!tail $qcFinalUsSort"
   ]
  },
  {
   "cell_type": "code",
   "execution_count": null,
   "metadata": {},
   "outputs": [],
   "source": [
    "otuFile = 'otus.fasta'\n",
    "cmd = 'usearch -cluster_otus {} -otus {}'.format(qcFinalUsSort, otuFile)\n",
    "!$cmd "
   ]
  },
  {
   "cell_type": "code",
   "execution_count": null,
   "metadata": {},
   "outputs": [],
   "source": [
    "otuFileRn = os.path.splitext(otuFile)[0] + 'n.fasta'"
   ]
  },
  {
   "cell_type": "code",
   "execution_count": null,
   "metadata": {},
   "outputs": [],
   "source": [
    "%%bash -s \"$otuFile\" \"$otuFileRn\"\n",
    "\n",
    " bioawk -c fastx '{print \">\" \"OTU\" \".\" NR \"\\n\" $seq}' $1 > $2"
   ]
  },
  {
   "cell_type": "code",
   "execution_count": 27,
   "metadata": {},
   "outputs": [
    {
     "name": "stdout",
     "output_type": "stream",
     "text": [
      ">OTU.1\r\n",
      "CCTACGGGGGGCTGCAGTGGGGAATATTGCACAATGGGCGCAAGCCTGATGCAGCGACGCCGCGTGAGGGATGACGGCCTTCGGGTTGTAAACCTCTTTCAGTAGGGAAGAAGCGAAAGTGACGGTACCTGCAGAAGAAGCGCCGGCTAACTACGTGCCAGCAGCCGCGGTAATACGTAGGGCGCAAGCGTTATCCGGAATTATTGGGCGTAAAGAGCTCGTAGGCGGTTTGTCGCGTCTGCCGTGAAAGTCCGGGGCTCAACTCCGGATCTGCGGTGGGTACGGGCAGACTAGAGTGATGTAGGGGAGACTGGAATTCCTGGTGTAGCGGTGAAATGCGCAGATATCAGGAGGAACACCGATGGCGAAGGCAGGTCTCTGGGCATTAACTGACGCTGAGGAGCGAAAGCATGGGGAGCGAACAGGATTAGATACCCCAGTAGTC\r\n",
      ">OTU.2\r\n",
      "CCTACGGGGGGCTGCAGTAGGGAATCTTCCGCAATGGACGAAAGTCTGACGGAGCAACGCCGCGTGAGTGATGAAGGCTTTCGGGTCGTAAAACTCTGTTGTTAGGGAAGAACAAGTACGAGAGTAACTGCTCGTACCTTGACGGTACCTAACCAGAAAGCCACGGCTAACTACGTGCCAGCAGCCGCGGTAATACGTAGGTGGCAAGCGTTATCCGGAATTATTGGGCGTAAAGCGCGCGCAGGCGGTTTCTTAAGTCTGATGTGAAAGCCCACGGCTCAACCGTGGAGGGTCATTGGAAACTGGGGAACTTGAGTGCAGAAGAGAAAAGCGGAATTCCACGTGTAGCGGTGAAATGCGTAGAGATGTGGAGGAACACCAGTGGCGAAGGCGGCTTTTTGGTCTGTAACTGACGCTGAGGCGCGAAAGCGTGGGGAGCAAACAGGATTAGATACCCCAGTAGTC\r\n"
     ]
    }
   ],
   "source": [
    "!head -n 4 $otuFileRn"
   ]
  },
  {
   "cell_type": "code",
   "execution_count": 28,
   "metadata": {},
   "outputs": [
    {
     "name": "stdout",
     "output_type": "stream",
     "text": [
      "27603\r\n"
     ]
    }
   ],
   "source": [
    "!grep -c \">\" $otuFileRn"
   ]
  },
  {
   "cell_type": "markdown",
   "metadata": {},
   "source": [
    "### Assigning taxonomy"
   ]
  },
  {
   "cell_type": "code",
   "execution_count": 29,
   "metadata": {},
   "outputs": [],
   "source": [
    "tax_levels = {0: 'd', 1: 'p', 2: 'c', 3: 'o', 4: 'f', 5: 'g', 6: 's'}\n",
    "tax_dict = {}\n",
    "with open(taxlist) as f:\n",
    "    for line in f:\n",
    "        (key, val) = line.split('\\t')\n",
    "        tax_dict[key] = val.replace('\\n', '')\n",
    "        \n",
    "with open(tax_ref, 'w') as outref:\n",
    "    for record in SeqIO.parse(taxfasta, 'fasta'):\n",
    "        tax = tax_dict[record.id].split(';')\n",
    "        header = record.id + ';tax=' + tax[0].replace('D_0__', tax_levels[0] + ':')\n",
    "        for i in range(1, len(tax)):\n",
    "            header = header + ',' + tax[i].replace('D_' + str(i) + '__', tax_levels[i] + ':')\n",
    "            \n",
    "        outref.write('>' + header + '\\n' + str(record.seq) + '\\n')\n"
   ]
  },
  {
   "cell_type": "code",
   "execution_count": 30,
   "metadata": {},
   "outputs": [
    {
     "name": "stdout",
     "output_type": "stream",
     "text": [
      "vsearch v2.13.3_linux_x86_64, 125.8GB RAM, 40 cores\n",
      "https://github.com/torognes/vsearch\n",
      "\n",
      "Reading file /home/sam/notebooks/goldenrod_assembly/data/OTU_binning/taxa_ref_SILVA_132.fasta 100%                   \n",
      "243651134 nt in 172222 seqs, min 900, max 2961, avg 1415\n",
      "Counting k-mers 100%                                            \n",
      "Creating k-mer index 100%                                                                                                                                                                                                      \n",
      "Classifying sequences 100%                                                                                                                                                                                                        \n",
      "Classified 27551 of 27603 sequences (99.81%)\n"
     ]
    }
   ],
   "source": [
    "tax_cmd = ' '.join(['vsearch --sintax', otuFileRn, \n",
    "                    '--db', tax_ref, \n",
    "                    '--sintax_cutoff', str(0.80),\n",
    "                    '--tabbedout', output_tax_table])\n",
    "\n",
    "!$tax_cmd"
   ]
  },
  {
   "cell_type": "markdown",
   "metadata": {},
   "source": [
    "### Removing Chloroplast, Eukaryal and mitochodria sequences"
   ]
  },
  {
   "cell_type": "code",
   "execution_count": 31,
   "metadata": {},
   "outputs": [],
   "source": [
    "best_tax_dict = {}\n",
    "with open(output_tax_table) as f:\n",
    "    for line in f:\n",
    "        line_list = line.split('\\t')\n",
    "        key = line_list[0]\n",
    "        val = line_list[3]\n",
    "        best_tax_dict[key] = val"
   ]
  },
  {
   "cell_type": "code",
   "execution_count": 32,
   "metadata": {},
   "outputs": [
    {
     "name": "stdout",
     "output_type": "stream",
     "text": [
      "Chloroplast OTUs: 130\n",
      "Mitochondrial OTUs: 35\n",
      "Eukarya OTUs: 0\n",
      "Unclassified OTUs: 52\n"
     ]
    }
   ],
   "source": [
    "to_rm_file = os.path.join(workDir, 'to_remove_tax.accnos')\n",
    "chloro_count = 0\n",
    "mito_count = 0\n",
    "euk_count = 0\n",
    "unclass_count = 0\n",
    "with open(to_rm_file, 'w') as rmfile:\n",
    "    for OTU in best_tax_dict:\n",
    "        if 'Chloroplast' in best_tax_dict[OTU]:\n",
    "            rmfile.write(OTU + '\\n')\n",
    "            chloro_count += 1\n",
    "        elif 'Mitochondria' in best_tax_dict[OTU]:\n",
    "            rmfile.write(OTU + '\\n')\n",
    "            mito_count += 1\n",
    "        elif 'Eukaryota' in best_tax_dict[OTU]:\n",
    "            rmfile.write(OTU + '\\n')\n",
    "            euk_count += 1\n",
    "        elif len(best_tax_dict[OTU]) == 0:\n",
    "            rmfile.write(OTU + '\\n')\n",
    "            unclass_count += 1\n",
    "            \n",
    "print('Chloroplast OTUs: ' + str(chloro_count))   \n",
    "print('Mitochondrial OTUs: ' + str(mito_count))\n",
    "print('Eukarya OTUs: ' + str(euk_count))\n",
    "print('Unclassified OTUs: ' + str(unclass_count))   "
   ]
  },
  {
   "cell_type": "code",
   "execution_count": 33,
   "metadata": {},
   "outputs": [
    {
     "name": "stdout",
     "output_type": "stream",
     "text": [
      "Number of lines: 217 /home/sam/notebooks/goldenrod_assembly/data/OTU_binning/to_remove_tax.accnos\n",
      "OTU.21\r\n",
      "OTU.30\r\n",
      "OTU.20\r\n",
      "OTU.116\r\n",
      "OTU.195\r\n",
      "OTU.240\r\n",
      "OTU.381\r\n",
      "OTU.413\r\n",
      "OTU.430\r\n",
      "OTU.445\r\n"
     ]
    }
   ],
   "source": [
    "ret = !wc -l $to_rm_file\n",
    "print ('Number of lines: {}'.format(ret[0]))\n",
    "!head $to_rm_file"
   ]
  },
  {
   "cell_type": "code",
   "execution_count": 34,
   "metadata": {},
   "outputs": [
    {
     "name": "stdout",
     "output_type": "stream",
     "text": [
      "http://www.mothur.org\r\n",
      "\r\n",
      "When using, please cite:\r\n",
      "Schloss, P.D., et al., Introducing mothur: Open-source, platform-independent, community-supported software for describing and comparing microbial communities. Appl Environ Microbiol, 2009. 75(23):7537-41.\r\n",
      "\r\n",
      "Distributed under the GNU General Public License\r\n",
      "\r\n",
      "Type 'help()' for information on the commands that are available\r\n",
      "\r\n",
      "For questions and analysis support, please visit our forum at https://forum.mothur.org\r\n",
      "\r\n",
      "Type 'quit()' to exit program\r\n",
      "\r\n",
      "[NOTE]: Setting random seed to 19760620.\r\n",
      "\r\n",
      "Script Mode\r\n",
      "\r\n",
      "\r\n",
      "mothur > remove.seqs(fasta=otusn.fasta, accnos=/home/sam/notebooks/goldenrod_assembly/data/OTU_binning/to_remove_tax.accnos)\r\n",
      "Removed 217 sequences from your fasta file.\r\n",
      "\r\n",
      "Output File Names:\r\n",
      "otusn.pick.fasta\r\n",
      "\r\n",
      "\r\n",
      "mothur > quit()\r\n",
      "\r\n",
      "\r\n",
      "It took 0 seconds to run 2 commands from your script.\r\n",
      "\r\n"
     ]
    }
   ],
   "source": [
    "cmd = 'mothur \"#remove.seqs(fasta={}, accnos={})\"'.format(otuFileRn, to_rm_file)\n",
    "!$cmd | tail -n 30"
   ]
  },
  {
   "cell_type": "code",
   "execution_count": 35,
   "metadata": {},
   "outputs": [
    {
     "name": "stdout",
     "output_type": "stream",
     "text": [
      "Pre-filter: number of sequences: 27603\n",
      "Post-filter: number of sequences: 27386\n"
     ]
    }
   ],
   "source": [
    "otuFilePick = os.path.splitext(otuFileRn)[0] + '.pick.fasta'\n",
    "\n",
    "ret = !grep -c \">\" $otuFileRn\n",
    "print ('Pre-filter: number of sequences: {}'.format(ret[0]))\n",
    "\n",
    "ret = !grep -c \">\" $otuFilePick\n",
    "print ('Post-filter: number of sequences: {}'.format(ret[0]))"
   ]
  },
  {
   "cell_type": "markdown",
   "metadata": {},
   "source": [
    "# Mapping reads"
   ]
  },
  {
   "cell_type": "code",
   "execution_count": 15,
   "metadata": {},
   "outputs": [
    {
     "data": {
      "text/plain": [
       "'/home/sam/notebooks/goldenrod_assembly/data/OTU_binning/finalQC_long.fasta'"
      ]
     },
     "execution_count": 15,
     "metadata": {},
     "output_type": "execute_result"
    }
   ],
   "source": [
    "qcFinal"
   ]
  },
  {
   "cell_type": "code",
   "execution_count": 16,
   "metadata": {},
   "outputs": [],
   "source": [
    "cmd_perl = 's/^>(.+)(_[^_]+)\\n\\$/>\\$1\\$2\\_\\$.;barcodelabel=\\$1\\n/' \n",
    "\n",
    "seqFile = os.path.splitext(qcFinal)[0] + '_usearchfmt.fasta'\n",
    "\n",
    "cmd = 'perl -pe \"{}\" {} > {}'.format(cmd_perl, qcFinal, seqFile)\n",
    "!$cmd"
   ]
  },
  {
   "cell_type": "code",
   "execution_count": 17,
   "metadata": {},
   "outputs": [
    {
     "name": "stdout",
     "output_type": "stream",
     "text": [
      ">SRR8905901_56872_1;barcodelabel=SRR8905901\r\n",
      "CCTACGGGGGGCTGCAGTGGGGAATCTTGCACAATGGGCGAAAGCCTGATGCAGCGACGCCGCGTGGGGGATGAAGCTTTTCGGAGTGTAAACCCCTTTCGACTGGGACGAATGCCTCGCAAGAGGAGTGACGGTACCAGTATAAGAAGCCCCGGCTAACTACGTGCCAGCAGCCGCGGTAAGACGTAGGGGGCCAGCGTTGTTCGGAATTACTGGGTGTAAAGGGTTCGTAGGCGGTGTGGCAAGTCGGGAGTGAAATCCCTGGGCTCAACCCAGGGACTGCTTCCGAAACTGCTGTGCCTGAGTGTGAGAGAGGCTCGTGGAATTGCAGGTGTAGCGGTGAAATGCGTAGATATCTGCAGGAACACCCGTGGCGAAAGCGGCGAGCTGGATCACTACTGACGCTGAGGAACGAAAGCTAGGGGAGCAAACAGGATTAGATACCCTGGTAGTC\r\n",
      ">SRR8906083_22803_3;barcodelabel=SRR8906083\r\n",
      "CCTACGGGGCGCTGCAGTGGGGAATCTTGCGCAAATGCGGGAAACCGTGACGCAGCGACGCCGCGTGGGGGAAGAAGGCCTTCGGGTTGTAAACCTCTTTCAGGAGGGACGAAGCTACTCGGGTTAATAGACCAGAGGGTGACGGTACCTCCAGAAGAAGCCCCGGCTGACTACGTGCCAGCAGCGGCGGTAATACGTAGGGGGCAAGCGTTGTCCGAATTTATTGGGCGTAAAGAGCTAGTAGGCGGCTTGGTAGGTCCGCGGTGAAAACTCGAGGCTCAACCGCGAGATGGCGGCGGAAACCACTGGGCTAGAGTCCGGAAGAGGAGAGTGGAATTCCCGGTGTAGCGGTGAAATGCGCAGATGTCGGGAAGAACACCTATGGCGAAGGCAGCTCTCTGGGACGGTACTGACGCTGAGACGCGAAAGCGTGGGGAGCGAACAGGATTAGATACCCGTGTCGTC\r\n",
      ">SRR8906083_20186_5;barcodelabel=SRR8906083\r\n",
      "CCTACGGGGGGCTGCAGTGGGGAATATCGCACAATGGGCGGAAGCCTGATGCAGCGACGCCGCGTGAGGGAAGACGGCCTTCGGGTTGTAAACCTCTTTCAGATCCGACGAAGCGCAAGTGACGGTAGGGTCAGAGGAAGCGCCGGCCAACTAAGGGCCAGCAGCCGCGGTAAGACGCAGGGCGCAAGCGGTGTCCGGGTTTATTGGGCGTAAAGAGCTCGTAGGCGGGTTGTTGCGTCGACTGTGAAAACCCACGGGTCAACCGTGGGGTCTGCAGTCGATACGGGCAGGCTAGAGTTCGGTAGGGGAGACTGGAATTCCTGGTGTAGCGGTGAAATGCGCAGATATCAGGAGGAACACCGGTGGCGAAGGCGGGTCTCTGGGCCGATACTGACGCTGAGGAGCGAAAGCGTGGGGAGCGAACAGGATTAGATACCCTTGTAGTC\r\n"
     ]
    }
   ],
   "source": [
    "!head -n 6 $seqFile"
   ]
  },
  {
   "cell_type": "code",
   "execution_count": 18,
   "metadata": {},
   "outputs": [
    {
     "name": "stdout",
     "output_type": "stream",
     "text": [
      "5.9G\t/home/sam/notebooks/goldenrod_assembly/data/OTU_binning/finalQC_long_usearchfmt.fasta\r\n"
     ]
    }
   ],
   "source": [
    "#see how many Gb this file is.\n",
    "!du -h $seqFile"
   ]
  },
  {
   "cell_type": "code",
   "execution_count": 19,
   "metadata": {},
   "outputs": [
    {
     "name": "stdout",
     "output_type": "stream",
     "text": [
      "creating new files:\r\n",
      "/home/sam/notebooks/goldenrod_assembly/data/OTU_binning/finalQC_long_usearchfmt.0.fasta\r\n",
      "/home/sam/notebooks/goldenrod_assembly/data/OTU_binning/finalQC_long_usearchfmt.1.fasta\r\n",
      "/home/sam/notebooks/goldenrod_assembly/data/OTU_binning/finalQC_long_usearchfmt.2.fasta\r\n",
      "/home/sam/notebooks/goldenrod_assembly/data/OTU_binning/finalQC_long_usearchfmt.3.fasta\r\n",
      "/home/sam/notebooks/goldenrod_assembly/data/OTU_binning/finalQC_long_usearchfmt.4.fasta\r\n"
     ]
    }
   ],
   "source": [
    "#spliting file because it is too big\n",
    "!pyfasta split -n 5 $seqFile\n"
   ]
  },
  {
   "cell_type": "code",
   "execution_count": 20,
   "metadata": {},
   "outputs": [
    {
     "data": {
      "text/plain": [
       "['/home/sam/notebooks/goldenrod_assembly/data/OTU_binning/finalQC_long_usearchfmt.2.fasta',\n",
       " '/home/sam/notebooks/goldenrod_assembly/data/OTU_binning/finalQC_long_usearchfmt.0.fasta',\n",
       " '/home/sam/notebooks/goldenrod_assembly/data/OTU_binning/finalQC_long_usearchfmt.1.fasta',\n",
       " '/home/sam/notebooks/goldenrod_assembly/data/OTU_binning/finalQC_long_usearchfmt.4.fasta',\n",
       " '/home/sam/notebooks/goldenrod_assembly/data/OTU_binning/finalQC_long_usearchfmt.3.fasta']"
      ]
     },
     "execution_count": 20,
     "metadata": {},
     "output_type": "execute_result"
    }
   ],
   "source": [
    "g = os.path.join(workDir, 'finalQC_long_usearchfmt.*.fasta')\n",
    "fileList = glob.glob(g)\n",
    "fileList "
   ]
  },
  {
   "cell_type": "code",
   "execution_count": 21,
   "metadata": {},
   "outputs": [
    {
     "data": {
      "text/plain": [
       "'/home/sam/notebooks/goldenrod_assembly/data/OTU_binning/otusn.pick.fasta'"
      ]
     },
     "execution_count": 21,
     "metadata": {},
     "output_type": "execute_result"
    }
   ],
   "source": [
    "otuFilePick = os.path.join(workDir, 'otusn.pick.fasta')\n",
    "otuFilePick"
   ]
  },
  {
   "cell_type": "code",
   "execution_count": null,
   "metadata": {},
   "outputs": [
    {
     "name": "stdout",
     "output_type": "stream",
     "text": [
      "usearch v11.0.667_i86linux32, 4.0Gb RAM (132Gb total), 40 cores\n",
      "(C) Copyright 2013-18 Robert C. Edgar, all rights reserved.\n",
      "https://drive5.com/usearch\n",
      "\n",
      "License: personal use only\n",
      "\n",
      "00:00 54Mb    100.0% Reading /home/sam/notebooks/goldenrod_assembly/data/OTU_binning/otusn.pick.fasta\n",
      "00:00 20Mb      0.1% Masking (fastnucleo)                                                            \r"
     ]
    },
    {
     "name": "stderr",
     "output_type": "stream",
     "text": [
      "Processing /home/sam/notebooks/goldenrod_assembly/data/OTU_binning/finalQC_long_usearchfmt.2.fasta\n"
     ]
    },
    {
     "name": "stdout",
     "output_type": "stream",
     "text": [
      "00:01 20Mb    100.0% Masking (fastnucleo)\n",
      "00:01 21Mb    100.0% Word stats          \n",
      "00:01 21Mb    100.0% Alloc rows\n",
      "00:02 67Mb    100.0% Build index\n",
      "28:29 256Mb     4.2% Searching finalQC_long_usearchfmt.2.fasta, 57.8% matchedQC_long_usearchfmt.2.fasta, 60.7% matched Searching finalQC_long_usearchfmt.2.fasta, 59.4% matchedt.2.fasta, 59.0% matched Searching finalQC_long_usearchfmt.2.fasta, 58.8% matchedt.2.fasta, 58.7% matched 58.4% matchedrchfmt.2.fasta, 58.3% matchedching finalQC_long_usearchfmt.2.fasta, 58.2% matchedQC_long_usearchfmt.2.fasta, 58.2% matched% Searching finalQC_long_usearchfmt.2.fasta, 58.1% matched.1% Searching finalQC_long_usearchfmt.2.fasta, 57.9% matched    4.1% Searching finalQC_long_usearchfmt.2.fasta, 57.9% matched.fasta, 57.9% matched\r"
     ]
    }
   ],
   "source": [
    "# running usearch on each split file\n",
    "for f in fileList:\n",
    "    sys.stderr.write('Processing {}\\n'.format(f))\n",
    "\n",
    "    ff,_ = os.path.splitext(f)\n",
    "    _,i = os.path.splitext(ff)\n",
    "    uc = 'readmap{}.uc'.format(i.lstrip('.')) \n",
    "\n",
    "    !usearch \\\n",
    "        -usearch_global $f \\\n",
    "        -db $otuFilePick \\\n",
    "        -strand plus \\\n",
    "        -id 0.97 \\\n",
    "        -maxaccepts 0 \\\n",
    "        -maxrejects 0 \\\n",
    "        -uc $uc \\\n",
    "        -threads $nprocs"
   ]
  },
  {
   "cell_type": "code",
   "execution_count": 31,
   "metadata": {},
   "outputs": [],
   "source": [
    "ucFile = 'readmap.uc'\n",
    "!cat readmap[0-9].uc > $ucFile"
   ]
  },
  {
   "cell_type": "code",
   "execution_count": 32,
   "metadata": {},
   "outputs": [
    {
     "name": "stdout",
     "output_type": "stream",
     "text": [
      "readmap.uc 100.0%   \n"
     ]
    }
   ],
   "source": [
    "otu_table_file = 'otu_table.txt'\n",
    "cmd = 'python2 /home/sam/repo/edgar_python_scripts/uc2otutab.py {} > {}'.format(ucFile, otu_table_file)\n",
    "!$cmd "
   ]
  },
  {
   "cell_type": "code",
   "execution_count": 33,
   "metadata": {},
   "outputs": [],
   "source": [
    "# make sure no existing biome file\n",
    "otu_biom_file = 'otu_table.biom'\n",
    "if os.path.isfile(otu_biom_file):\n",
    "    os.unlink(otu_biom_file)\n",
    "    \n",
    "cmd = 'biom convert -i {} -o {} --table-type \"OTU table\" --to-json'.format(otu_table_file, otu_biom_file)\n",
    "!$cmd"
   ]
  },
  {
   "cell_type": "code",
   "execution_count": 34,
   "metadata": {},
   "outputs": [],
   "source": [
    "# make sure no existing summary file\n",
    "otu_sum_file = 'otu_table_summary.txt'\n",
    "if os.path.isfile(otu_sum_file):\n",
    "    os.unlink(otu_sum_file)\n",
    "    \n",
    "cmd = 'biom summarize-table -i {} -o {}'.format(otu_biom_file, otu_sum_file)\n",
    "!$cmd"
   ]
  },
  {
   "cell_type": "code",
   "execution_count": 35,
   "metadata": {
    "scrolled": true
   },
   "outputs": [
    {
     "name": "stdout",
     "output_type": "stream",
     "text": [
      "Num samples: 207\r\n",
      "Num observations: 27386\r\n",
      "Total count: 13344789\r\n",
      "Table density (fraction of non-zero values): 0.140\r\n",
      "\r\n",
      "Counts/sample summary:\r\n",
      " Min: 97.0\r\n",
      " Max: 312757.0\r\n",
      " Median: 62849.000\r\n",
      " Mean: 64467.580\r\n",
      " Std. dev.: 39353.873\r\n",
      " Sample Metadata Categories: None provided\r\n",
      " Observation Metadata Categories: None provided\r\n",
      "\r\n",
      "Counts/sample detail:\r\n",
      "SRR8906026: 97.0\r\n",
      "SRR8906028: 986.0\r\n",
      "SRR8906021: 1709.0\r\n",
      "SRR8906200: 12410.0\r\n",
      "SRR8906208: 16086.0\r\n",
      "SRR8906161: 16988.0\r\n",
      "SRR8905939: 17963.0\r\n",
      "SRR8905940: 18587.0\r\n",
      "SRR8906085: 19213.0\r\n",
      "SRR8906159: 19379.0\r\n",
      "SRR8906056: 19941.0\r\n",
      "SRR8906201: 19946.0\r\n",
      "SRR8906155: 20117.0\r\n",
      "SRR8905989: 20313.0\r\n",
      "SRR8906024: 20439.0\r\n",
      "SRR8905948: 21255.0\r\n",
      "SRR8905866: 21569.0\r\n",
      "SRR8906050: 21661.0\r\n",
      "SRR8905941: 22624.0\r\n",
      "SRR8906207: 22678.0\r\n",
      "SRR8906057: 23725.0\r\n",
      "SRR8905998: 23873.0\r\n",
      "SRR8905942: 24665.0\r\n",
      "SRR8905865: 24759.0\r\n",
      "SRR8906052: 24826.0\r\n",
      "SRR8906153: 24989.0\r\n",
      "SRR8906158: 25134.0\r\n",
      "SRR8906205: 25140.0\r\n",
      "SRR8906079: 25508.0\r\n",
      "SRR8905863: 25679.0\r\n",
      "SRR8906203: 25987.0\r\n",
      "SRR8906049: 26415.0\r\n",
      "SRR8906054: 27183.0\r\n",
      "SRR8906016: 27251.0\r\n",
      "SRR8905944: 27358.0\r\n",
      "SRR8905843: 27759.0\r\n",
      "SRR8906032: 28194.0\r\n",
      "SRR8906080: 28230.0\r\n",
      "SRR8905992: 28295.0\r\n",
      "SRR8906055: 28333.0\r\n",
      "SRR8905996: 29179.0\r\n",
      "SRR8906084: 29528.0\r\n",
      "SRR8905860: 29982.0\r\n",
      "SRR8906160: 30058.0\r\n",
      "SRR8906048: 30651.0\r\n",
      "SRR8906204: 30980.0\r\n",
      "SRR8906156: 31110.0\r\n",
      "SRR8905842: 31703.0\r\n",
      "SRR8906202: 31730.0\r\n",
      "SRR8906206: 32170.0\r\n",
      "SRR8905943: 32284.0\r\n",
      "SRR8905991: 32408.0\r\n",
      "SRR8905902: 32764.0\r\n",
      "SRR8906115: 33499.0\r\n",
      "SRR8906053: 33510.0\r\n",
      "SRR8906209: 34619.0\r\n",
      "SRR8906023: 35542.0\r\n",
      "SRR8905867: 35578.0\r\n",
      "SRR8906152: 36276.0\r\n",
      "SRR8905879: 38793.0\r\n",
      "SRR8905862: 38837.0\r\n",
      "SRR8906081: 40208.0\r\n",
      "SRR8905995: 40804.0\r\n",
      "SRR8906015: 41121.0\r\n",
      "SRR8906142: 43684.0\r\n",
      "SRR8906184: 44576.0\r\n",
      "SRR8905969: 45688.0\r\n",
      "SRR8906124: 46002.0\r\n",
      "SRR8905978: 46354.0\r\n",
      "SRR8906020: 49577.0\r\n",
      "SRR8906188: 49886.0\r\n",
      "SRR8906215: 50003.0\r\n",
      "SRR8906118: 50079.0\r\n",
      "SRR8906034: 50273.0\r\n",
      "SRR8906186: 50906.0\r\n",
      "SRR8906185: 50945.0\r\n",
      "SRR8905990: 51105.0\r\n",
      "SRR8905880: 51605.0\r\n",
      "SRR8906121: 51826.0\r\n",
      "SRR8905870: 51885.0\r\n",
      "SRR8906116: 52727.0\r\n",
      "SRR8906219: 52821.0\r\n",
      "SRR8905871: 52928.0\r\n",
      "SRR8906022: 53833.0\r\n",
      "SRR8906233: 54904.0\r\n",
      "SRR8905897: 55934.0\r\n",
      "SRR8906122: 56283.0\r\n",
      "SRR8906093: 56804.0\r\n",
      "SRR8905946: 57163.0\r\n",
      "SRR8906150: 57311.0\r\n",
      "SRR8906017: 57407.0\r\n",
      "SRR8905903: 57476.0\r\n",
      "SRR8905875: 57567.0\r\n",
      "SRR8906119: 58164.0\r\n",
      "SRR8906181: 58637.0\r\n",
      "SRR8905906: 59253.0\r\n",
      "SRR8906123: 59914.0\r\n",
      "SRR8905844: 59922.0\r\n",
      "SRR8906120: 60320.0\r\n",
      "SRR8906082: 60349.0\r\n",
      "SRR8905925: 60429.0\r\n",
      "SRR8906030: 60990.0\r\n",
      "SRR8905997: 62584.0\r\n",
      "SRR8906092: 62849.0\r\n",
      "SRR8905972: 63904.0\r\n",
      "SRR8906018: 63915.0\r\n",
      "SRR8905923: 64111.0\r\n",
      "SRR8906027: 64714.0\r\n",
      "SRR8905922: 64984.0\r\n",
      "SRR8905849: 65001.0\r\n",
      "SRR8906117: 65088.0\r\n",
      "SRR8906098: 66388.0\r\n",
      "SRR8905869: 66487.0\r\n",
      "SRR8905977: 66648.0\r\n",
      "SRR8905909: 67354.0\r\n",
      "SRR8906218: 67607.0\r\n",
      "SRR8905847: 67846.0\r\n",
      "SRR8905872: 68127.0\r\n",
      "SRR8905926: 68893.0\r\n",
      "SRR8906232: 69105.0\r\n",
      "SRR8906141: 69573.0\r\n",
      "SRR8905898: 69632.0\r\n",
      "SRR8905900: 69688.0\r\n",
      "SRR8905924: 69694.0\r\n",
      "SRR8905840: 69703.0\r\n",
      "SRR8906086: 70715.0\r\n",
      "SRR8906145: 70845.0\r\n",
      "SRR8905974: 71262.0\r\n",
      "SRR8905945: 73951.0\r\n",
      "SRR8906154: 74045.0\r\n",
      "SRR8906025: 74130.0\r\n",
      "SRR8906097: 74294.0\r\n",
      "SRR8905846: 74487.0\r\n",
      "SRR8905928: 74791.0\r\n",
      "SRR8906083: 75344.0\r\n",
      "SRR8905920: 75808.0\r\n",
      "SRR8906089: 75906.0\r\n",
      "SRR8906189: 76003.0\r\n",
      "SRR8905947: 76690.0\r\n",
      "SRR8905912: 76733.0\r\n",
      "SRR8905877: 77191.0\r\n",
      "SRR8906091: 77915.0\r\n",
      "SRR8906095: 78265.0\r\n",
      "SRR8905848: 78334.0\r\n",
      "SRR8905970: 78727.0\r\n",
      "SRR8906213: 78787.0\r\n",
      "SRR8905976: 78798.0\r\n",
      "SRR8905913: 78943.0\r\n",
      "SRR8906212: 80092.0\r\n",
      "SRR8906051: 80366.0\r\n",
      "SRR8906148: 80560.0\r\n",
      "SRR8906183: 80599.0\r\n",
      "SRR8906147: 81523.0\r\n",
      "SRR8905841: 81777.0\r\n",
      "SRR8906151: 82860.0\r\n",
      "SRR8905975: 83010.0\r\n",
      "SRR8906144: 83042.0\r\n",
      "SRR8906157: 83547.0\r\n",
      "SRR8905861: 83779.0\r\n",
      "SRR8905845: 84185.0\r\n",
      "SRR8905921: 84795.0\r\n",
      "SRR8905916: 85704.0\r\n",
      "SRR8906143: 86976.0\r\n",
      "SRR8905973: 86986.0\r\n",
      "SRR8906094: 87137.0\r\n",
      "SRR8905873: 87248.0\r\n",
      "SRR8906149: 87266.0\r\n",
      "SRR8906210: 87584.0\r\n",
      "SRR8905971: 87612.0\r\n",
      "SRR8906237: 87761.0\r\n",
      "SRR8906214: 88187.0\r\n",
      "SRR8906146: 88703.0\r\n",
      "SRR8905927: 89337.0\r\n",
      "SRR8905910: 90224.0\r\n",
      "SRR8906096: 90459.0\r\n",
      "SRR8905993: 91933.0\r\n",
      "SRR8906217: 92216.0\r\n",
      "SRR8905915: 94505.0\r\n",
      "SRR8905911: 94829.0\r\n",
      "SRR8906180: 96633.0\r\n",
      "SRR8906211: 97232.0\r\n",
      "SRR8906078: 98910.0\r\n",
      "SRR8906236: 99562.0\r\n",
      "SRR8905914: 99729.0\r\n",
      "SRR8906187: 100002.0\r\n",
      "SRR8906088: 100984.0\r\n",
      "SRR8905899: 102576.0\r\n",
      "SRR8906019: 102956.0\r\n",
      "SRR8906090: 103498.0\r\n",
      "SRR8906235: 103873.0\r\n",
      "SRR8906216: 106250.0\r\n",
      "SRR8906029: 108329.0\r\n",
      "SRR8906231: 110359.0\r\n",
      "SRR8905864: 110717.0\r\n",
      "SRR8905918: 112320.0\r\n",
      "SRR8905901: 112904.0\r\n",
      "SRR8906234: 113047.0\r\n",
      "SRR8906182: 118369.0\r\n",
      "SRR8905917: 118503.0\r\n",
      "SRR8905868: 128294.0\r\n",
      "SRR8906087: 135119.0\r\n",
      "SRR8905905: 142031.0\r\n",
      "SRR8905876: 196719.0\r\n",
      "SRR8906031: 207760.0\r\n",
      "SRR8905994: 207838.0\r\n",
      "SRR8905904: 230729.0\r\n",
      "SRR8905919: 312757.0"
     ]
    }
   ],
   "source": [
    "!cat $otu_sum_file"
   ]
  },
  {
   "cell_type": "code",
   "execution_count": null,
   "metadata": {},
   "outputs": [],
   "source": []
  }
 ],
 "metadata": {
  "anaconda-cloud": {},
  "hide_input": true,
  "kernelspec": {
   "display_name": "Python 3",
   "language": "python",
   "name": "python3"
  },
  "language_info": {
   "codemirror_mode": {
    "name": "ipython",
    "version": 3
   },
   "file_extension": ".py",
   "mimetype": "text/x-python",
   "name": "python",
   "nbconvert_exporter": "python",
   "pygments_lexer": "ipython3",
   "version": "3.6.10"
  },
  "notify_time": "5"
 },
 "nbformat": 4,
 "nbformat_minor": 1
}
